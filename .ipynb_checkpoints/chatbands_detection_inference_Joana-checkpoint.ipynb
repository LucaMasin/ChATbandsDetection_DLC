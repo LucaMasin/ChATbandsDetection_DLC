{
 "cells": [
  {
   "cell_type": "code",
   "execution_count": 1,
   "metadata": {},
   "outputs": [],
   "source": [
    "import deeplabcut\n",
    "import os\n",
    "os.chdir('./unsupervised-pretraining-deeplabcut')\n",
    "import chatbands\n",
    "from chatbands import extract_labeled_data\n",
    "from chatbands import extract_unlabeled_data\n",
    "from chatbands import predict_chAT\n",
    "from chatbands import make_labeled_tif\n",
    "from modified.trainingsetmanipulation import create_training_dataset as pose_training_set\n",
    "\n",
    "\n"
   ]
  },
  {
   "cell_type": "markdown",
   "metadata": {},
   "source": [
    "**For more information on the specifications and used parameters of the DeepLabCut model, look at the deeplabcut_fullguide.pdf in /home/bram/chatbands**"
   ]
  },
  {
   "cell_type": "markdown",
   "metadata": {},
   "source": [
    "# Inference\n",
    "In the following code, new data is analyzed using the trained model. Predictions are made every **step_size** pixels along the slices (If yo.\n",
    "Set the following variables:\n",
    "**inference_path**: the folder with tif files that need to be analyzed. All tif files in this folder will be analyzed.\n",
    "**config_path**: the path to the config.yaml file of the project in which the trained model is located that you want to use.\n",
    "**dest_path**: the folder in which the results should be placed.\n",
    "\n",
    "In the **dest_path** folder, a folder is created for the results of each tif file. Extra files are created, but these are the predictions for the subimages. You can remove these if you want. "
   ]
  },
  {
   "cell_type": "code",
   "execution_count": 2,
   "metadata": {},
   "outputs": [
    {
     "ename": "FileNotFoundError",
     "evalue": "[Errno 2] No such file or directory: '/media/flabs02/LabPapers/RGCRegeneration/Data\\\\/ingleRGCs/deeplabcutChAT_todo'",
     "output_type": "error",
     "traceback": [
      "\u001b[0;31m---------------------------------------------------------------------------\u001b[0m",
      "\u001b[0;31mFileNotFoundError\u001b[0m                         Traceback (most recent call last)",
      "\u001b[0;32m<ipython-input-2-b23030496877>\u001b[0m in \u001b[0;36m<module>\u001b[0;34m()\u001b[0m\n\u001b[1;32m      6\u001b[0m \u001b[0mproject_path\u001b[0m \u001b[0;34m=\u001b[0m \u001b[0;34m\"/home/bram/chatbands/unsupervised-pretraining-deeplabcut/chATbands-NERF-2020-09-14/\"\u001b[0m\u001b[0;34m\u001b[0m\u001b[0;34m\u001b[0m\u001b[0m\n\u001b[1;32m      7\u001b[0m \u001b[0mconfig_path\u001b[0m \u001b[0;34m=\u001b[0m \u001b[0mos\u001b[0m\u001b[0;34m.\u001b[0m\u001b[0mpath\u001b[0m\u001b[0;34m.\u001b[0m\u001b[0mjoin\u001b[0m\u001b[0;34m(\u001b[0m\u001b[0mproject_path\u001b[0m\u001b[0;34m,\u001b[0m \u001b[0;34m\"config.yaml\"\u001b[0m\u001b[0;34m)\u001b[0m \u001b[0;31m# Comment if new projectdest_path = \"/home/bram/chatbands/results\"\u001b[0m\u001b[0;34m\u001b[0m\u001b[0;34m\u001b[0m\u001b[0m\n\u001b[0;32m----> 8\u001b[0;31m \u001b[0mchatbands\u001b[0m \u001b[0;34m=\u001b[0m \u001b[0;34m[\u001b[0m\u001b[0mf\u001b[0m\u001b[0;34m.\u001b[0m\u001b[0msplit\u001b[0m\u001b[0;34m(\u001b[0m\u001b[0;34m'_chAT'\u001b[0m\u001b[0;34m)\u001b[0m\u001b[0;34m[\u001b[0m\u001b[0;36m0\u001b[0m\u001b[0;34m]\u001b[0m \u001b[0;32mfor\u001b[0m \u001b[0mf\u001b[0m \u001b[0;32min\u001b[0m \u001b[0mos\u001b[0m\u001b[0;34m.\u001b[0m\u001b[0mlistdir\u001b[0m\u001b[0;34m(\u001b[0m\u001b[0minference_path\u001b[0m\u001b[0;34m)\u001b[0m \u001b[0;32mif\u001b[0m \u001b[0mf\u001b[0m\u001b[0;34m.\u001b[0m\u001b[0mendswith\u001b[0m\u001b[0;34m(\u001b[0m\u001b[0;34m'.tif'\u001b[0m\u001b[0;34m)\u001b[0m\u001b[0;34m]\u001b[0m\u001b[0;34m\u001b[0m\u001b[0;34m\u001b[0m\u001b[0m\n\u001b[0m\u001b[1;32m      9\u001b[0m \u001b[0mextract_unlabeled_data\u001b[0m\u001b[0;34m.\u001b[0m\u001b[0mextract_video\u001b[0m\u001b[0;34m(\u001b[0m\u001b[0mchatbands\u001b[0m\u001b[0;34m,\u001b[0m \u001b[0minference_path\u001b[0m\u001b[0;34m,\u001b[0m \u001b[0mconfig_path\u001b[0m\u001b[0;34m,\u001b[0m \u001b[0mstep_size\u001b[0m\u001b[0;34m=\u001b[0m\u001b[0mstep_size\u001b[0m\u001b[0;34m)\u001b[0m\u001b[0;34m\u001b[0m\u001b[0;34m\u001b[0m\u001b[0m\n",
      "\u001b[0;31mFileNotFoundError\u001b[0m: [Errno 2] No such file or directory: '/media/flabs02/LabPapers/RGCRegeneration/Data\\\\/ingleRGCs/deeplabcutChAT_todo'"
     ]
    }
   ],
   "source": [
    "#inference_path = \"/home/bram/chatbands/data/inference\"\n",
    "#dest_path = \"/home/bram/chatbands/results\"\n",
    "step_size = 40 # Change step_size if needed\n",
    "inference_path = \"/media/flabs02/LabPapers/RGCRegeneration/Data\\singleRGCs/deeplabcutChAT_todo\"\n",
    "dest_path = \"/media/flabs02/LabPapers/RGCRegeneration/Data/singleRGCs/deeplabcutChAT_ori\"\n",
    "project_path = \"/home/bram/chatbands/unsupervised-pretraining-deeplabcut/chATbands-NERF-2020-09-14/\"\n",
    "config_path = os.path.join(project_path, \"config.yaml\") # Comment if new projectdest_path = \"/home/bram/chatbands/results\"\n",
    "chatbands = [f.split('_chAT')[0] for f in os.listdir(inference_path) if f.endswith('.tif')]\n",
    "extract_unlabeled_data.extract_video(chatbands, inference_path, config_path, step_size=step_size) \n"
   ]
  },
  {
   "cell_type": "markdown",
   "metadata": {},
   "source": [
    "Again, choose the step_size. This step_size should always correspond to the step_size in the previous step. Using the **create_video** and **create_tif** options, you can choose to generate a video or tif file for which the predictions of the model are mapped onto the slices."
   ]
  },
  {
   "cell_type": "code",
   "execution_count": 3,
   "metadata": {
    "scrolled": true
   },
   "outputs": [
    {
     "name": "stdout",
     "output_type": "stream",
     "text": [
      "Using snapshot-510000 for model /home/bram/chatbands/unsupervised-pretraining-deeplabcut/chATbands-NERF-2019-11-29/dlc-models/iteration-0/chATbandsNov29-trainset80shuffle1\n",
      "shape:  Tensor(\"pose/Shape:0\", shape=(4,), dtype=int32)\n",
      "shape:  Tensor(\"Shape:0\", shape=(4,), dtype=int32)\n",
      "INFO:tensorflow:Restoring parameters from /home/bram/chatbands/unsupervised-pretraining-deeplabcut/chATbands-NERF-2019-11-29/dlc-models/iteration-0/chATbandsNov29-trainset80shuffle1/train/snapshot-510000\n"
     ]
    },
    {
     "name": "stderr",
     "output_type": "stream",
     "text": [
      "INFO:tensorflow:Restoring parameters from /home/bram/chatbands/unsupervised-pretraining-deeplabcut/chATbands-NERF-2019-11-29/dlc-models/iteration-0/chATbandsNov29-trainset80shuffle1/train/snapshot-510000\n",
      "  0%|          | 0/3890 [00:00<?, ?it/s]"
     ]
    },
    {
     "name": "stdout",
     "output_type": "stream",
     "text": [
      "Analyzing all the videos in the directory\n",
      "Starting to analyze %  video80826_3L_C09.mp4\n",
      "Loading  video80826_3L_C09.mp4\n",
      "Duration of video [s]:  129.67 , recorded with  30.0 fps!\n",
      "Overall # of frames:  3890  found with (before cropping) frame dimensions:  200 408\n",
      "Starting to extract posture\n"
     ]
    },
    {
     "name": "stderr",
     "output_type": "stream",
     "text": [
      "3914it [00:35, 111.52it/s]                          \n",
      "  0%|          | 0/3880 [00:00<?, ?it/s]"
     ]
    },
    {
     "name": "stdout",
     "output_type": "stream",
     "text": [
      "Detected frames:  3890\n",
      "Saving results in ....\n",
      "Saving csv poses!\n",
      "Starting to analyze %  video80826_3L_C16.mp4\n",
      "Loading  video80826_3L_C16.mp4\n",
      "Duration of video [s]:  129.33 , recorded with  30.0 fps!\n",
      "Overall # of frames:  3880  found with (before cropping) frame dimensions:  200 408\n",
      "Starting to extract posture\n"
     ]
    },
    {
     "name": "stderr",
     "output_type": "stream",
     "text": [
      "3914it [00:33, 116.22it/s]                          \n",
      "  0%|          | 0/3890 [00:00<?, ?it/s]"
     ]
    },
    {
     "name": "stdout",
     "output_type": "stream",
     "text": [
      "Detected frames:  3880\n",
      "Saving results in ....\n",
      "Saving csv poses!\n",
      "Starting to analyze %  video80826_3L_C77.mp4\n",
      "Loading  video80826_3L_C77.mp4\n",
      "Duration of video [s]:  129.67 , recorded with  30.0 fps!\n",
      "Overall # of frames:  3890  found with (before cropping) frame dimensions:  200 408\n",
      "Starting to extract posture\n"
     ]
    },
    {
     "name": "stderr",
     "output_type": "stream",
     "text": [
      "3914it [00:34, 114.76it/s]                          \n",
      "  0%|          | 0/3890 [00:00<?, ?it/s]"
     ]
    },
    {
     "name": "stdout",
     "output_type": "stream",
     "text": [
      "Detected frames:  3890\n",
      "Saving results in ....\n",
      "Saving csv poses!\n",
      "Starting to analyze %  video80826_3L_C127.mp4\n",
      "Loading  video80826_3L_C127.mp4\n",
      "Duration of video [s]:  129.67 , recorded with  30.0 fps!\n",
      "Overall # of frames:  3890  found with (before cropping) frame dimensions:  200 432\n",
      "Starting to extract posture\n"
     ]
    },
    {
     "name": "stderr",
     "output_type": "stream",
     "text": [
      "3914it [00:35, 111.03it/s]                          \n",
      "  0%|          | 0/3910 [00:00<?, ?it/s]"
     ]
    },
    {
     "name": "stdout",
     "output_type": "stream",
     "text": [
      "Detected frames:  3890\n",
      "Saving results in ....\n",
      "Saving csv poses!\n",
      "Starting to analyze %  video80826_1L_C02.mp4\n",
      "Loading  video80826_1L_C02.mp4\n",
      "Duration of video [s]:  130.33 , recorded with  30.0 fps!\n",
      "Overall # of frames:  3910  found with (before cropping) frame dimensions:  200 594\n",
      "Starting to extract posture\n"
     ]
    },
    {
     "name": "stderr",
     "output_type": "stream",
     "text": [
      "3939it [00:38, 102.18it/s]                          \n",
      "  0%|          | 0/3880 [00:00<?, ?it/s]"
     ]
    },
    {
     "name": "stdout",
     "output_type": "stream",
     "text": [
      "Detected frames:  3910\n",
      "Saving results in ....\n",
      "Saving csv poses!\n",
      "Starting to analyze %  video80826_3L_C20.mp4\n",
      "Loading  video80826_3L_C20.mp4\n",
      "Duration of video [s]:  129.33 , recorded with  30.0 fps!\n",
      "Overall # of frames:  3880  found with (before cropping) frame dimensions:  200 408\n",
      "Starting to extract posture\n"
     ]
    },
    {
     "name": "stderr",
     "output_type": "stream",
     "text": [
      "3914it [00:33, 116.43it/s]                          \n",
      "  0%|          | 0/3900 [00:00<?, ?it/s]"
     ]
    },
    {
     "name": "stdout",
     "output_type": "stream",
     "text": [
      "Detected frames:  3880\n",
      "Saving results in ....\n",
      "Saving csv poses!\n",
      "Starting to analyze %  video80826_3L_C87.mp4\n",
      "Loading  video80826_3L_C87.mp4\n",
      "Duration of video [s]:  130.0 , recorded with  30.0 fps!\n",
      "Overall # of frames:  3900  found with (before cropping) frame dimensions:  200 434\n",
      "Starting to extract posture\n"
     ]
    },
    {
     "name": "stderr",
     "output_type": "stream",
     "text": [
      "3939it [00:35, 109.80it/s]                          \n",
      "  0%|          | 0/3870 [00:00<?, ?it/s]"
     ]
    },
    {
     "name": "stdout",
     "output_type": "stream",
     "text": [
      "Detected frames:  3900\n",
      "Saving results in ....\n",
      "Saving csv poses!\n",
      "Starting to analyze %  video80826_3L_C82.mp4\n",
      "Loading  video80826_3L_C82.mp4\n",
      "Duration of video [s]:  129.0 , recorded with  30.0 fps!\n",
      "Overall # of frames:  3870  found with (before cropping) frame dimensions:  200 432\n",
      "Starting to extract posture\n"
     ]
    },
    {
     "name": "stderr",
     "output_type": "stream",
     "text": [
      "3876it [00:34, 111.26it/s]                          \n",
      "  0%|          | 0/3890 [00:00<?, ?it/s]"
     ]
    },
    {
     "name": "stdout",
     "output_type": "stream",
     "text": [
      "Detected frames:  3870\n",
      "Saving results in ....\n",
      "Saving csv poses!\n",
      "Starting to analyze %  video80826_3L_C119.mp4\n",
      "Loading  video80826_3L_C119.mp4\n",
      "Duration of video [s]:  129.67 , recorded with  30.0 fps!\n",
      "Overall # of frames:  3890  found with (before cropping) frame dimensions:  200 434\n",
      "Starting to extract posture\n"
     ]
    },
    {
     "name": "stderr",
     "output_type": "stream",
     "text": [
      "3914it [00:35, 110.29it/s]                          \n",
      "  0%|          | 0/3900 [00:00<?, ?it/s]"
     ]
    },
    {
     "name": "stdout",
     "output_type": "stream",
     "text": [
      "Detected frames:  3890\n",
      "Saving results in ....\n",
      "Saving csv poses!\n",
      "Starting to analyze %  video80826_3L_C13.mp4\n",
      "Loading  video80826_3L_C13.mp4\n",
      "Duration of video [s]:  130.0 , recorded with  30.0 fps!\n",
      "Overall # of frames:  3900  found with (before cropping) frame dimensions:  200 408\n",
      "Starting to extract posture\n"
     ]
    },
    {
     "name": "stderr",
     "output_type": "stream",
     "text": [
      "3939it [00:34, 115.73it/s]                          \n",
      "  0%|          | 0/3900 [00:00<?, ?it/s]"
     ]
    },
    {
     "name": "stdout",
     "output_type": "stream",
     "text": [
      "Detected frames:  3900\n",
      "Saving results in ....\n",
      "Saving csv poses!\n",
      "Starting to analyze %  video80826_3L_C137.mp4\n",
      "Loading  video80826_3L_C137.mp4\n",
      "Duration of video [s]:  130.0 , recorded with  30.0 fps!\n",
      "Overall # of frames:  3900  found with (before cropping) frame dimensions:  200 434\n",
      "Starting to extract posture\n"
     ]
    },
    {
     "name": "stderr",
     "output_type": "stream",
     "text": [
      "3939it [00:35, 110.84it/s]                          \n",
      "  0%|          | 0/3900 [00:00<?, ?it/s]"
     ]
    },
    {
     "name": "stdout",
     "output_type": "stream",
     "text": [
      "Detected frames:  3900\n",
      "Saving results in ....\n",
      "Saving csv poses!\n",
      "Starting to analyze %  video80826_3L_C39.mp4\n",
      "Loading  video80826_3L_C39.mp4\n",
      "Duration of video [s]:  130.0 , recorded with  30.0 fps!\n",
      "Overall # of frames:  3900  found with (before cropping) frame dimensions:  200 408\n",
      "Starting to extract posture\n"
     ]
    },
    {
     "name": "stderr",
     "output_type": "stream",
     "text": [
      "3939it [00:33, 116.02it/s]                          \n",
      "  0%|          | 0/3890 [00:00<?, ?it/s]"
     ]
    },
    {
     "name": "stdout",
     "output_type": "stream",
     "text": [
      "Detected frames:  3900\n",
      "Saving results in ....\n",
      "Saving csv poses!\n",
      "Starting to analyze %  video80826_3L_C83.mp4\n",
      "Loading  video80826_3L_C83.mp4\n",
      "Duration of video [s]:  129.67 , recorded with  30.0 fps!\n",
      "Overall # of frames:  3890  found with (before cropping) frame dimensions:  200 434\n",
      "Starting to extract posture\n"
     ]
    },
    {
     "name": "stderr",
     "output_type": "stream",
     "text": [
      "3914it [00:35, 110.30it/s]                          \n",
      "  0%|          | 0/3890 [00:00<?, ?it/s]"
     ]
    },
    {
     "name": "stdout",
     "output_type": "stream",
     "text": [
      "Detected frames:  3890\n",
      "Saving results in ....\n",
      "Saving csv poses!\n",
      "Starting to analyze %  video80826_3L_C73.mp4\n",
      "Loading  video80826_3L_C73.mp4\n",
      "Duration of video [s]:  129.67 , recorded with  30.0 fps!\n",
      "Overall # of frames:  3890  found with (before cropping) frame dimensions:  200 434\n",
      "Starting to extract posture\n"
     ]
    },
    {
     "name": "stderr",
     "output_type": "stream",
     "text": [
      "3914it [00:35, 110.61it/s]                          \n",
      "  0%|          | 0/3900 [00:00<?, ?it/s]"
     ]
    },
    {
     "name": "stdout",
     "output_type": "stream",
     "text": [
      "Detected frames:  3890\n",
      "Saving results in ....\n",
      "Saving csv poses!\n",
      "Starting to analyze %  video80826_3L_C115.mp4\n",
      "Loading  video80826_3L_C115.mp4\n",
      "Duration of video [s]:  130.0 , recorded with  30.0 fps!\n",
      "Overall # of frames:  3900  found with (before cropping) frame dimensions:  200 432\n",
      "Starting to extract posture\n"
     ]
    },
    {
     "name": "stderr",
     "output_type": "stream",
     "text": [
      "3939it [00:35, 111.48it/s]                          \n",
      "  0%|          | 0/3890 [00:00<?, ?it/s]"
     ]
    },
    {
     "name": "stdout",
     "output_type": "stream",
     "text": [
      "Detected frames:  3900\n",
      "Saving results in ....\n",
      "Saving csv poses!\n",
      "Starting to analyze %  video80826_1L_C96.mp4\n",
      "Loading  video80826_1L_C96.mp4\n",
      "Duration of video [s]:  129.67 , recorded with  30.0 fps!\n",
      "Overall # of frames:  3890  found with (before cropping) frame dimensions:  200 534\n",
      "Starting to extract posture\n"
     ]
    },
    {
     "name": "stderr",
     "output_type": "stream",
     "text": [
      "3914it [00:35, 109.38it/s]                          \n",
      "  0%|          | 0/3890 [00:00<?, ?it/s]"
     ]
    },
    {
     "name": "stdout",
     "output_type": "stream",
     "text": [
      "Detected frames:  3890\n",
      "Saving results in ....\n",
      "Saving csv poses!\n",
      "Starting to analyze %  video80826_3L_C118.mp4\n",
      "Loading  video80826_3L_C118.mp4\n",
      "Duration of video [s]:  129.67 , recorded with  30.0 fps!\n",
      "Overall # of frames:  3890  found with (before cropping) frame dimensions:  200 432\n",
      "Starting to extract posture\n"
     ]
    },
    {
     "name": "stderr",
     "output_type": "stream",
     "text": [
      "3914it [00:35, 111.18it/s]                          \n",
      "  0%|          | 0/3930 [00:00<?, ?it/s]"
     ]
    },
    {
     "name": "stdout",
     "output_type": "stream",
     "text": [
      "Detected frames:  3890\n",
      "Saving results in ....\n",
      "Saving csv poses!\n",
      "Starting to analyze %  video80826_1L_C58.mp4\n",
      "Loading  video80826_1L_C58.mp4\n",
      "Duration of video [s]:  131.0 , recorded with  30.0 fps!\n",
      "Overall # of frames:  3930  found with (before cropping) frame dimensions:  200 534\n",
      "Starting to extract posture\n"
     ]
    },
    {
     "name": "stderr",
     "output_type": "stream",
     "text": [
      "3939it [00:35, 109.97it/s]                          \n",
      "  0%|          | 0/3890 [00:00<?, ?it/s]"
     ]
    },
    {
     "name": "stdout",
     "output_type": "stream",
     "text": [
      "Detected frames:  3930\n",
      "Saving results in ....\n",
      "Saving csv poses!\n",
      "Starting to analyze %  video80826_3L_C125.mp4\n",
      "Loading  video80826_3L_C125.mp4\n",
      "Duration of video [s]:  129.67 , recorded with  30.0 fps!\n",
      "Overall # of frames:  3890  found with (before cropping) frame dimensions:  200 434\n",
      "Starting to extract posture\n"
     ]
    },
    {
     "name": "stderr",
     "output_type": "stream",
     "text": [
      "3914it [00:35, 109.68it/s]                          \n",
      "  0%|          | 0/3890 [00:00<?, ?it/s]"
     ]
    },
    {
     "name": "stdout",
     "output_type": "stream",
     "text": [
      "Detected frames:  3890\n",
      "Saving results in ....\n",
      "Saving csv poses!\n",
      "Starting to analyze %  video80826_3L_C136.mp4\n",
      "Loading  video80826_3L_C136.mp4\n",
      "Duration of video [s]:  129.67 , recorded with  30.0 fps!\n",
      "Overall # of frames:  3890  found with (before cropping) frame dimensions:  200 434\n",
      "Starting to extract posture\n"
     ]
    },
    {
     "name": "stderr",
     "output_type": "stream",
     "text": [
      "3914it [00:35, 110.42it/s]                          \n",
      "  0%|          | 0/3880 [00:00<?, ?it/s]"
     ]
    },
    {
     "name": "stdout",
     "output_type": "stream",
     "text": [
      "Detected frames:  3890\n",
      "Saving results in ....\n",
      "Saving csv poses!\n",
      "Starting to analyze %  video80826_3L_C11.mp4\n",
      "Loading  video80826_3L_C11.mp4\n",
      "Duration of video [s]:  129.33 , recorded with  30.0 fps!\n",
      "Overall # of frames:  3880  found with (before cropping) frame dimensions:  200 408\n",
      "Starting to extract posture\n"
     ]
    },
    {
     "name": "stderr",
     "output_type": "stream",
     "text": [
      "3914it [00:33, 116.11it/s]                          \n",
      "  0%|          | 0/3910 [00:00<?, ?it/s]"
     ]
    },
    {
     "name": "stdout",
     "output_type": "stream",
     "text": [
      "Detected frames:  3880\n",
      "Saving results in ....\n",
      "Saving csv poses!\n",
      "Starting to analyze %  video80826_3L_C89.mp4\n",
      "Loading  video80826_3L_C89.mp4\n",
      "Duration of video [s]:  130.33 , recorded with  30.0 fps!\n",
      "Overall # of frames:  3910  found with (before cropping) frame dimensions:  200 432\n",
      "Starting to extract posture\n"
     ]
    },
    {
     "name": "stderr",
     "output_type": "stream",
     "text": [
      "3939it [00:35, 111.62it/s]                          \n",
      "  0%|          | 0/3890 [00:00<?, ?it/s]"
     ]
    },
    {
     "name": "stdout",
     "output_type": "stream",
     "text": [
      "Detected frames:  3910\n",
      "Saving results in ....\n",
      "Saving csv poses!\n",
      "Starting to analyze %  video80826_3L_C19.mp4\n",
      "Loading  video80826_3L_C19.mp4\n",
      "Duration of video [s]:  129.67 , recorded with  30.0 fps!\n",
      "Overall # of frames:  3890  found with (before cropping) frame dimensions:  200 408\n",
      "Starting to extract posture\n"
     ]
    },
    {
     "name": "stderr",
     "output_type": "stream",
     "text": [
      "3914it [00:34, 114.50it/s]                          \n",
      "  0%|          | 0/3890 [00:00<?, ?it/s]"
     ]
    },
    {
     "name": "stdout",
     "output_type": "stream",
     "text": [
      "Detected frames:  3890\n",
      "Saving results in ....\n",
      "Saving csv poses!\n",
      "Starting to analyze %  video80826_3L_C102.mp4\n",
      "Loading  video80826_3L_C102.mp4\n",
      "Duration of video [s]:  129.67 , recorded with  30.0 fps!\n",
      "Overall # of frames:  3890  found with (before cropping) frame dimensions:  200 434\n",
      "Starting to extract posture\n"
     ]
    },
    {
     "name": "stderr",
     "output_type": "stream",
     "text": [
      "3914it [00:35, 110.06it/s]                          \n",
      "  0%|          | 0/3910 [00:00<?, ?it/s]"
     ]
    },
    {
     "name": "stdout",
     "output_type": "stream",
     "text": [
      "Detected frames:  3890\n",
      "Saving results in ....\n",
      "Saving csv poses!\n",
      "Starting to analyze %  video80826_3L_C17.mp4\n",
      "Loading  video80826_3L_C17.mp4\n",
      "Duration of video [s]:  130.33 , recorded with  30.0 fps!\n",
      "Overall # of frames:  3910  found with (before cropping) frame dimensions:  200 408\n",
      "Starting to extract posture\n"
     ]
    },
    {
     "name": "stderr",
     "output_type": "stream",
     "text": [
      "3939it [00:34, 115.32it/s]                          \n",
      "  0%|          | 0/3890 [00:00<?, ?it/s]"
     ]
    },
    {
     "name": "stdout",
     "output_type": "stream",
     "text": [
      "Detected frames:  3910\n",
      "Saving results in ....\n",
      "Saving csv poses!\n",
      "Starting to analyze %  video80826_3L_C05.mp4\n",
      "Loading  video80826_3L_C05.mp4\n",
      "Duration of video [s]:  129.67 , recorded with  30.0 fps!\n",
      "Overall # of frames:  3890  found with (before cropping) frame dimensions:  200 408\n",
      "Starting to extract posture\n"
     ]
    },
    {
     "name": "stderr",
     "output_type": "stream",
     "text": [
      "3914it [00:34, 115.01it/s]                          \n",
      "  0%|          | 0/3880 [00:00<?, ?it/s]"
     ]
    },
    {
     "name": "stdout",
     "output_type": "stream",
     "text": [
      "Detected frames:  3890\n",
      "Saving results in ....\n",
      "Saving csv poses!\n",
      "Starting to analyze %  video80826_3L_C22.mp4\n",
      "Loading  video80826_3L_C22.mp4\n",
      "Duration of video [s]:  129.33 , recorded with  30.0 fps!\n",
      "Overall # of frames:  3880  found with (before cropping) frame dimensions:  200 408\n",
      "Starting to extract posture\n"
     ]
    },
    {
     "name": "stderr",
     "output_type": "stream",
     "text": [
      "3914it [00:33, 115.90it/s]                          \n",
      "  0%|          | 0/3900 [00:00<?, ?it/s]"
     ]
    },
    {
     "name": "stdout",
     "output_type": "stream",
     "text": [
      "Detected frames:  3880\n",
      "Saving results in ....\n",
      "Saving csv poses!\n",
      "Starting to analyze %  video80826_3L_C08.mp4\n",
      "Loading  video80826_3L_C08.mp4\n",
      "Duration of video [s]:  130.0 , recorded with  30.0 fps!\n",
      "Overall # of frames:  3900  found with (before cropping) frame dimensions:  200 408\n",
      "Starting to extract posture\n"
     ]
    },
    {
     "name": "stderr",
     "output_type": "stream",
     "text": [
      "3939it [00:33, 115.86it/s]                          \n",
      "  0%|          | 0/3890 [00:00<?, ?it/s]"
     ]
    },
    {
     "name": "stdout",
     "output_type": "stream",
     "text": [
      "Detected frames:  3900\n",
      "Saving results in ....\n",
      "Saving csv poses!\n",
      "Starting to analyze %  video80826_3L_C124.mp4\n",
      "Loading  video80826_3L_C124.mp4\n",
      "Duration of video [s]:  129.67 , recorded with  30.0 fps!\n",
      "Overall # of frames:  3890  found with (before cropping) frame dimensions:  200 434\n",
      "Starting to extract posture\n"
     ]
    },
    {
     "name": "stderr",
     "output_type": "stream",
     "text": [
      "3914it [00:35, 110.30it/s]                          \n",
      "  0%|          | 0/3890 [00:00<?, ?it/s]"
     ]
    },
    {
     "name": "stdout",
     "output_type": "stream",
     "text": [
      "Detected frames:  3890\n",
      "Saving results in ....\n",
      "Saving csv poses!\n",
      "Starting to analyze %  video80826_3L_C109.mp4\n",
      "Loading  video80826_3L_C109.mp4\n",
      "Duration of video [s]:  129.67 , recorded with  30.0 fps!\n",
      "Overall # of frames:  3890  found with (before cropping) frame dimensions:  200 432\n",
      "Starting to extract posture\n"
     ]
    },
    {
     "name": "stderr",
     "output_type": "stream",
     "text": [
      "3914it [00:35, 111.72it/s]                          \n",
      "  0%|          | 0/3890 [00:00<?, ?it/s]"
     ]
    },
    {
     "name": "stdout",
     "output_type": "stream",
     "text": [
      "Detected frames:  3890\n",
      "Saving results in ....\n",
      "Saving csv poses!\n",
      "Starting to analyze %  video80826_3L_C35.mp4\n",
      "Loading  video80826_3L_C35.mp4\n",
      "Duration of video [s]:  129.67 , recorded with  30.0 fps!\n",
      "Overall # of frames:  3890  found with (before cropping) frame dimensions:  200 410\n",
      "Starting to extract posture\n"
     ]
    },
    {
     "name": "stderr",
     "output_type": "stream",
     "text": [
      "3914it [00:34, 112.97it/s]                          \n",
      "  0%|          | 0/3910 [00:00<?, ?it/s]"
     ]
    },
    {
     "name": "stdout",
     "output_type": "stream",
     "text": [
      "Detected frames:  3890\n",
      "Saving results in ....\n",
      "Saving csv poses!\n",
      "Starting to analyze %  video80826_1L_C05.mp4\n",
      "Loading  video80826_1L_C05.mp4\n",
      "Duration of video [s]:  130.33 , recorded with  30.0 fps!\n",
      "Overall # of frames:  3910  found with (before cropping) frame dimensions:  200 594\n",
      "Starting to extract posture\n"
     ]
    },
    {
     "name": "stderr",
     "output_type": "stream",
     "text": [
      "3939it [00:38, 102.59it/s]                          \n",
      "  0%|          | 0/3890 [00:00<?, ?it/s]"
     ]
    },
    {
     "name": "stdout",
     "output_type": "stream",
     "text": [
      "Detected frames:  3910\n",
      "Saving results in ....\n",
      "Saving csv poses!\n",
      "Starting to analyze %  video80826_3L_C38.mp4\n",
      "Loading  video80826_3L_C38.mp4\n",
      "Duration of video [s]:  129.67 , recorded with  30.0 fps!\n",
      "Overall # of frames:  3890  found with (before cropping) frame dimensions:  200 408\n",
      "Starting to extract posture\n"
     ]
    },
    {
     "name": "stderr",
     "output_type": "stream",
     "text": [
      "3914it [00:33, 115.54it/s]                          \n",
      "  0%|          | 0/3890 [00:00<?, ?it/s]"
     ]
    },
    {
     "name": "stdout",
     "output_type": "stream",
     "text": [
      "Detected frames:  3890\n",
      "Saving results in ....\n",
      "Saving csv poses!\n",
      "Starting to analyze %  video80826_3L_C105.mp4\n",
      "Loading  video80826_3L_C105.mp4\n",
      "Duration of video [s]:  129.67 , recorded with  30.0 fps!\n",
      "Overall # of frames:  3890  found with (before cropping) frame dimensions:  200 432\n",
      "Starting to extract posture\n"
     ]
    },
    {
     "name": "stderr",
     "output_type": "stream",
     "text": [
      "3914it [00:35, 111.68it/s]                          \n",
      "  0%|          | 0/3890 [00:00<?, ?it/s]"
     ]
    },
    {
     "name": "stdout",
     "output_type": "stream",
     "text": [
      "Detected frames:  3890\n",
      "Saving results in ....\n",
      "Saving csv poses!\n",
      "Starting to analyze %  video80826_3L_C30.mp4\n",
      "Loading  video80826_3L_C30.mp4\n",
      "Duration of video [s]:  129.67 , recorded with  30.0 fps!\n",
      "Overall # of frames:  3890  found with (before cropping) frame dimensions:  200 408\n",
      "Starting to extract posture\n"
     ]
    },
    {
     "name": "stderr",
     "output_type": "stream",
     "text": [
      "3914it [00:34, 115.07it/s]                          \n",
      "  0%|          | 0/3890 [00:00<?, ?it/s]"
     ]
    },
    {
     "name": "stdout",
     "output_type": "stream",
     "text": [
      "Detected frames:  3890\n",
      "Saving results in ....\n",
      "Saving csv poses!\n",
      "Starting to analyze %  video80826_1L_C88.mp4\n",
      "Loading  video80826_1L_C88.mp4\n",
      "Duration of video [s]:  129.67 , recorded with  30.0 fps!\n",
      "Overall # of frames:  3890  found with (before cropping) frame dimensions:  200 594\n",
      "Starting to extract posture\n"
     ]
    },
    {
     "name": "stderr",
     "output_type": "stream",
     "text": [
      "3914it [00:38, 102.23it/s]                          \n",
      "  0%|          | 0/3900 [00:00<?, ?it/s]"
     ]
    },
    {
     "name": "stdout",
     "output_type": "stream",
     "text": [
      "Detected frames:  3890\n",
      "Saving results in ....\n",
      "Saving csv poses!\n",
      "Starting to analyze %  video80826_3L_C142.mp4\n",
      "Loading  video80826_3L_C142.mp4\n",
      "Duration of video [s]:  130.0 , recorded with  30.0 fps!\n",
      "Overall # of frames:  3900  found with (before cropping) frame dimensions:  200 434\n",
      "Starting to extract posture\n"
     ]
    },
    {
     "name": "stderr",
     "output_type": "stream",
     "text": [
      "3939it [00:35, 110.75it/s]                          \n",
      "  0%|          | 0/3890 [00:00<?, ?it/s]"
     ]
    },
    {
     "name": "stdout",
     "output_type": "stream",
     "text": [
      "Detected frames:  3900\n",
      "Saving results in ....\n",
      "Saving csv poses!\n",
      "Starting to analyze %  video80826_3L_C44.mp4\n",
      "Loading  video80826_3L_C44.mp4\n",
      "Duration of video [s]:  129.67 , recorded with  30.0 fps!\n",
      "Overall # of frames:  3890  found with (before cropping) frame dimensions:  200 408\n",
      "Starting to extract posture\n"
     ]
    },
    {
     "name": "stderr",
     "output_type": "stream",
     "text": [
      "3914it [00:33, 115.42it/s]                          \n",
      "  0%|          | 0/3890 [00:00<?, ?it/s]"
     ]
    },
    {
     "name": "stdout",
     "output_type": "stream",
     "text": [
      "Detected frames:  3890\n",
      "Saving results in ....\n",
      "Saving csv poses!\n",
      "Starting to analyze %  video80826_3L_C80.mp4\n",
      "Loading  video80826_3L_C80.mp4\n",
      "Duration of video [s]:  129.67 , recorded with  30.0 fps!\n",
      "Overall # of frames:  3890  found with (before cropping) frame dimensions:  200 434\n",
      "Starting to extract posture\n"
     ]
    },
    {
     "name": "stderr",
     "output_type": "stream",
     "text": [
      "3914it [00:35, 110.11it/s]                          \n",
      "  0%|          | 0/3890 [00:00<?, ?it/s]"
     ]
    },
    {
     "name": "stdout",
     "output_type": "stream",
     "text": [
      "Detected frames:  3890\n",
      "Saving results in ....\n",
      "Saving csv poses!\n",
      "Starting to analyze %  video80826_3L_C45.mp4\n",
      "Loading  video80826_3L_C45.mp4\n",
      "Duration of video [s]:  129.67 , recorded with  30.0 fps!\n",
      "Overall # of frames:  3890  found with (before cropping) frame dimensions:  200 408\n",
      "Starting to extract posture\n"
     ]
    },
    {
     "name": "stderr",
     "output_type": "stream",
     "text": [
      "3914it [00:33, 115.18it/s]                          \n",
      "  0%|          | 0/3890 [00:00<?, ?it/s]"
     ]
    },
    {
     "name": "stdout",
     "output_type": "stream",
     "text": [
      "Detected frames:  3890\n",
      "Saving results in ....\n",
      "Saving csv poses!\n",
      "Starting to analyze %  video80826_3L_C128.mp4\n",
      "Loading  video80826_3L_C128.mp4\n",
      "Duration of video [s]:  129.67 , recorded with  30.0 fps!\n",
      "Overall # of frames:  3890  found with (before cropping) frame dimensions:  200 434\n",
      "Starting to extract posture\n"
     ]
    },
    {
     "name": "stderr",
     "output_type": "stream",
     "text": [
      "3914it [00:35, 109.73it/s]                          \n",
      "  0%|          | 0/3890 [00:00<?, ?it/s]"
     ]
    },
    {
     "name": "stdout",
     "output_type": "stream",
     "text": [
      "Detected frames:  3890\n",
      "Saving results in ....\n",
      "Saving csv poses!\n",
      "Starting to analyze %  video80826_3L_C33.mp4\n",
      "Loading  video80826_3L_C33.mp4\n",
      "Duration of video [s]:  129.67 , recorded with  30.0 fps!\n",
      "Overall # of frames:  3890  found with (before cropping) frame dimensions:  200 408\n",
      "Starting to extract posture\n"
     ]
    },
    {
     "name": "stderr",
     "output_type": "stream",
     "text": [
      "3914it [00:33, 115.30it/s]                          \n",
      "  0%|          | 0/3890 [00:00<?, ?it/s]"
     ]
    },
    {
     "name": "stdout",
     "output_type": "stream",
     "text": [
      "Detected frames:  3890\n",
      "Saving results in ....\n",
      "Saving csv poses!\n",
      "Starting to analyze %  video80826_3L_C15.mp4\n",
      "Loading  video80826_3L_C15.mp4\n",
      "Duration of video [s]:  129.67 , recorded with  30.0 fps!\n",
      "Overall # of frames:  3890  found with (before cropping) frame dimensions:  200 408\n",
      "Starting to extract posture\n"
     ]
    },
    {
     "name": "stderr",
     "output_type": "stream",
     "text": [
      "3914it [00:33, 115.61it/s]                          \n",
      "  0%|          | 0/3900 [00:00<?, ?it/s]"
     ]
    },
    {
     "name": "stdout",
     "output_type": "stream",
     "text": [
      "Detected frames:  3890\n",
      "Saving results in ....\n",
      "Saving csv poses!\n",
      "Starting to analyze %  video80826_3L_C42.mp4\n",
      "Loading  video80826_3L_C42.mp4\n",
      "Duration of video [s]:  130.0 , recorded with  30.0 fps!\n",
      "Overall # of frames:  3900  found with (before cropping) frame dimensions:  200 408\n",
      "Starting to extract posture\n"
     ]
    },
    {
     "name": "stderr",
     "output_type": "stream",
     "text": [
      "3939it [00:34, 115.40it/s]                          \n",
      "  0%|          | 0/3910 [00:00<?, ?it/s]"
     ]
    },
    {
     "name": "stdout",
     "output_type": "stream",
     "text": [
      "Detected frames:  3900\n",
      "Saving results in ....\n",
      "Saving csv poses!\n",
      "Starting to analyze %  video80826_3L_C64.mp4\n",
      "Loading  video80826_3L_C64.mp4\n",
      "Duration of video [s]:  130.33 , recorded with  30.0 fps!\n",
      "Overall # of frames:  3910  found with (before cropping) frame dimensions:  200 410\n",
      "Starting to extract posture\n"
     ]
    },
    {
     "name": "stderr",
     "output_type": "stream",
     "text": [
      "3939it [00:34, 114.00it/s]                          \n",
      "  0%|          | 0/3910 [00:00<?, ?it/s]"
     ]
    },
    {
     "name": "stdout",
     "output_type": "stream",
     "text": [
      "Detected frames:  3910\n",
      "Saving results in ....\n",
      "Saving csv poses!\n",
      "Starting to analyze %  video80826_3L_C26.mp4\n",
      "Loading  video80826_3L_C26.mp4\n",
      "Duration of video [s]:  130.33 , recorded with  30.0 fps!\n",
      "Overall # of frames:  3910  found with (before cropping) frame dimensions:  200 408\n",
      "Starting to extract posture\n"
     ]
    },
    {
     "name": "stderr",
     "output_type": "stream",
     "text": [
      "3939it [00:34, 115.28it/s]                          \n",
      "  0%|          | 0/3890 [00:00<?, ?it/s]"
     ]
    },
    {
     "name": "stdout",
     "output_type": "stream",
     "text": [
      "Detected frames:  3910\n",
      "Saving results in ....\n",
      "Saving csv poses!\n",
      "Starting to analyze %  video80826_3L_C110.mp4\n",
      "Loading  video80826_3L_C110.mp4\n",
      "Duration of video [s]:  129.67 , recorded with  30.0 fps!\n",
      "Overall # of frames:  3890  found with (before cropping) frame dimensions:  200 432\n",
      "Starting to extract posture\n"
     ]
    },
    {
     "name": "stderr",
     "output_type": "stream",
     "text": [
      "3914it [00:35, 111.43it/s]                          \n",
      "  0%|          | 0/3890 [00:00<?, ?it/s]"
     ]
    },
    {
     "name": "stdout",
     "output_type": "stream",
     "text": [
      "Detected frames:  3890\n",
      "Saving results in ....\n",
      "Saving csv poses!\n",
      "Starting to analyze %  video80826_3L_C21.mp4\n",
      "Loading  video80826_3L_C21.mp4\n",
      "Duration of video [s]:  129.67 , recorded with  30.0 fps!\n",
      "Overall # of frames:  3890  found with (before cropping) frame dimensions:  200 408\n",
      "Starting to extract posture\n"
     ]
    },
    {
     "name": "stderr",
     "output_type": "stream",
     "text": [
      "3914it [00:33, 115.40it/s]                          \n",
      "  0%|          | 0/3890 [00:00<?, ?it/s]"
     ]
    },
    {
     "name": "stdout",
     "output_type": "stream",
     "text": [
      "Detected frames:  3890\n",
      "Saving results in ....\n",
      "Saving csv poses!\n",
      "Starting to analyze %  video80826_3L_C114.mp4\n",
      "Loading  video80826_3L_C114.mp4\n",
      "Duration of video [s]:  129.67 , recorded with  30.0 fps!\n",
      "Overall # of frames:  3890  found with (before cropping) frame dimensions:  200 432\n",
      "Starting to extract posture\n"
     ]
    },
    {
     "name": "stderr",
     "output_type": "stream",
     "text": [
      "3914it [00:35, 111.09it/s]                          \n",
      "  0%|          | 0/3900 [00:00<?, ?it/s]"
     ]
    },
    {
     "name": "stdout",
     "output_type": "stream",
     "text": [
      "Detected frames:  3890\n",
      "Saving results in ....\n",
      "Saving csv poses!\n",
      "Starting to analyze %  video80826_3L_C14.mp4\n",
      "Loading  video80826_3L_C14.mp4\n",
      "Duration of video [s]:  130.0 , recorded with  30.0 fps!\n",
      "Overall # of frames:  3900  found with (before cropping) frame dimensions:  200 408\n",
      "Starting to extract posture\n"
     ]
    },
    {
     "name": "stderr",
     "output_type": "stream",
     "text": [
      "3939it [00:33, 116.42it/s]                          \n",
      "  0%|          | 0/3880 [00:00<?, ?it/s]"
     ]
    },
    {
     "name": "stdout",
     "output_type": "stream",
     "text": [
      "Detected frames:  3900\n",
      "Saving results in ....\n",
      "Saving csv poses!\n",
      "Starting to analyze %  video80826_3L_C72.mp4\n",
      "Loading  video80826_3L_C72.mp4\n",
      "Duration of video [s]:  129.33 , recorded with  30.0 fps!\n",
      "Overall # of frames:  3880  found with (before cropping) frame dimensions:  200 432\n",
      "Starting to extract posture\n"
     ]
    },
    {
     "name": "stderr",
     "output_type": "stream",
     "text": [
      "3914it [00:34, 112.17it/s]                          \n",
      "  0%|          | 0/3890 [00:00<?, ?it/s]"
     ]
    },
    {
     "name": "stdout",
     "output_type": "stream",
     "text": [
      "Detected frames:  3880\n",
      "Saving results in ....\n",
      "Saving csv poses!\n",
      "Starting to analyze %  video80826_3L_C108.mp4\n",
      "Loading  video80826_3L_C108.mp4\n",
      "Duration of video [s]:  129.67 , recorded with  30.0 fps!\n",
      "Overall # of frames:  3890  found with (before cropping) frame dimensions:  200 434\n",
      "Starting to extract posture\n"
     ]
    },
    {
     "name": "stderr",
     "output_type": "stream",
     "text": [
      "3914it [00:35, 110.16it/s]                          \n",
      "  0%|          | 0/3910 [00:00<?, ?it/s]"
     ]
    },
    {
     "name": "stdout",
     "output_type": "stream",
     "text": [
      "Detected frames:  3890\n",
      "Saving results in ....\n",
      "Saving csv poses!\n",
      "Starting to analyze %  video80826_1L_C86.mp4\n",
      "Loading  video80826_1L_C86.mp4\n",
      "Duration of video [s]:  130.33 , recorded with  30.0 fps!\n",
      "Overall # of frames:  3910  found with (before cropping) frame dimensions:  200 594\n",
      "Starting to extract posture\n"
     ]
    },
    {
     "name": "stderr",
     "output_type": "stream",
     "text": [
      "3939it [00:38, 102.16it/s]                          \n",
      "  0%|          | 0/3890 [00:00<?, ?it/s]"
     ]
    },
    {
     "name": "stdout",
     "output_type": "stream",
     "text": [
      "Detected frames:  3910\n",
      "Saving results in ....\n",
      "Saving csv poses!\n",
      "Starting to analyze %  video80826_3L_C04.mp4\n",
      "Loading  video80826_3L_C04.mp4\n",
      "Duration of video [s]:  129.67 , recorded with  30.0 fps!\n",
      "Overall # of frames:  3890  found with (before cropping) frame dimensions:  200 408\n",
      "Starting to extract posture\n"
     ]
    },
    {
     "name": "stderr",
     "output_type": "stream",
     "text": [
      "3914it [00:34, 114.96it/s]                          \n",
      "  0%|          | 0/3890 [00:00<?, ?it/s]"
     ]
    },
    {
     "name": "stdout",
     "output_type": "stream",
     "text": [
      "Detected frames:  3890\n",
      "Saving results in ....\n",
      "Saving csv poses!\n",
      "Starting to analyze %  video80826_3L_C70.mp4\n",
      "Loading  video80826_3L_C70.mp4\n",
      "Duration of video [s]:  129.67 , recorded with  30.0 fps!\n",
      "Overall # of frames:  3890  found with (before cropping) frame dimensions:  200 434\n",
      "Starting to extract posture\n"
     ]
    },
    {
     "name": "stderr",
     "output_type": "stream",
     "text": [
      "3914it [00:35, 110.18it/s]                          \n",
      "  0%|          | 0/3900 [00:00<?, ?it/s]"
     ]
    },
    {
     "name": "stdout",
     "output_type": "stream",
     "text": [
      "Detected frames:  3890\n",
      "Saving results in ....\n",
      "Saving csv poses!\n",
      "Starting to analyze %  video80826_3L_C10.mp4\n",
      "Loading  video80826_3L_C10.mp4\n",
      "Duration of video [s]:  130.0 , recorded with  30.0 fps!\n",
      "Overall # of frames:  3900  found with (before cropping) frame dimensions:  200 408\n",
      "Starting to extract posture\n"
     ]
    },
    {
     "name": "stderr",
     "output_type": "stream",
     "text": [
      "3939it [00:34, 115.79it/s]                          \n",
      "  0%|          | 0/3850 [00:00<?, ?it/s]"
     ]
    },
    {
     "name": "stdout",
     "output_type": "stream",
     "text": [
      "Detected frames:  3900\n",
      "Saving results in ....\n",
      "Saving csv poses!\n",
      "Starting to analyze %  video80826_1L_C07.mp4\n",
      "Loading  video80826_1L_C07.mp4\n",
      "Duration of video [s]:  128.33 , recorded with  30.0 fps!\n",
      "Overall # of frames:  3850  found with (before cropping) frame dimensions:  200 594\n",
      "Starting to extract posture\n"
     ]
    },
    {
     "name": "stderr",
     "output_type": "stream",
     "text": [
      "3876it [00:37, 102.58it/s]                          \n",
      "  0%|          | 0/3860 [00:00<?, ?it/s]"
     ]
    },
    {
     "name": "stdout",
     "output_type": "stream",
     "text": [
      "Detected frames:  3850\n",
      "Saving results in ....\n",
      "Saving csv poses!\n",
      "Starting to analyze %  video80826_1L_C90.mp4\n",
      "Loading  video80826_1L_C90.mp4\n",
      "Duration of video [s]:  128.67 , recorded with  30.0 fps!\n",
      "Overall # of frames:  3860  found with (before cropping) frame dimensions:  200 594\n",
      "Starting to extract posture\n"
     ]
    },
    {
     "name": "stderr",
     "output_type": "stream",
     "text": [
      "3876it [00:37, 102.09it/s]                          \n",
      "  0%|          | 0/3890 [00:00<?, ?it/s]"
     ]
    },
    {
     "name": "stdout",
     "output_type": "stream",
     "text": [
      "Detected frames:  3860\n",
      "Saving results in ....\n",
      "Saving csv poses!\n",
      "Starting to analyze %  video80826_3L_C131.mp4\n",
      "Loading  video80826_3L_C131.mp4\n",
      "Duration of video [s]:  129.67 , recorded with  30.0 fps!\n",
      "Overall # of frames:  3890  found with (before cropping) frame dimensions:  200 434\n",
      "Starting to extract posture\n"
     ]
    },
    {
     "name": "stderr",
     "output_type": "stream",
     "text": [
      "3914it [00:35, 110.67it/s]                          \n",
      "  0%|          | 0/3870 [00:00<?, ?it/s]"
     ]
    },
    {
     "name": "stdout",
     "output_type": "stream",
     "text": [
      "Detected frames:  3890\n",
      "Saving results in ....\n",
      "Saving csv poses!\n",
      "Starting to analyze %  video80826_3L_C18.mp4\n",
      "Loading  video80826_3L_C18.mp4\n",
      "Duration of video [s]:  129.0 , recorded with  30.0 fps!\n",
      "Overall # of frames:  3870  found with (before cropping) frame dimensions:  200 408\n",
      "Starting to extract posture\n"
     ]
    },
    {
     "name": "stderr",
     "output_type": "stream",
     "text": [
      "3876it [00:33, 114.73it/s]                          \n",
      "  0%|          | 0/3890 [00:00<?, ?it/s]"
     ]
    },
    {
     "name": "stdout",
     "output_type": "stream",
     "text": [
      "Detected frames:  3870\n",
      "Saving results in ....\n",
      "Saving csv poses!\n",
      "Starting to analyze %  video80826_3L_C130.mp4\n",
      "Loading  video80826_3L_C130.mp4\n",
      "Duration of video [s]:  129.67 , recorded with  30.0 fps!\n",
      "Overall # of frames:  3890  found with (before cropping) frame dimensions:  200 434\n",
      "Starting to extract posture\n"
     ]
    },
    {
     "name": "stderr",
     "output_type": "stream",
     "text": [
      "3914it [00:35, 110.40it/s]                          \n",
      "  0%|          | 0/3900 [00:00<?, ?it/s]"
     ]
    },
    {
     "name": "stdout",
     "output_type": "stream",
     "text": [
      "Detected frames:  3890\n",
      "Saving results in ....\n",
      "Saving csv poses!\n",
      "Starting to analyze %  video80826_3L_C74.mp4\n",
      "Loading  video80826_3L_C74.mp4\n",
      "Duration of video [s]:  130.0 , recorded with  30.0 fps!\n",
      "Overall # of frames:  3900  found with (before cropping) frame dimensions:  200 408\n",
      "Starting to extract posture\n"
     ]
    },
    {
     "name": "stderr",
     "output_type": "stream",
     "text": [
      "3939it [00:33, 115.92it/s]                          \n",
      "  0%|          | 0/3880 [00:00<?, ?it/s]"
     ]
    },
    {
     "name": "stdout",
     "output_type": "stream",
     "text": [
      "Detected frames:  3900\n",
      "Saving results in ....\n",
      "Saving csv poses!\n",
      "Starting to analyze %  video80826_3L_C37.mp4\n",
      "Loading  video80826_3L_C37.mp4\n",
      "Duration of video [s]:  129.33 , recorded with  30.0 fps!\n",
      "Overall # of frames:  3880  found with (before cropping) frame dimensions:  200 410\n",
      "Starting to extract posture\n"
     ]
    },
    {
     "name": "stderr",
     "output_type": "stream",
     "text": [
      "3914it [00:34, 114.33it/s]                          \n",
      "  0%|          | 0/3910 [00:00<?, ?it/s]"
     ]
    },
    {
     "name": "stdout",
     "output_type": "stream",
     "text": [
      "Detected frames:  3880\n",
      "Saving results in ....\n",
      "Saving csv poses!\n",
      "Starting to analyze %  video80826_1L_C01.mp4\n",
      "Loading  video80826_1L_C01.mp4\n",
      "Duration of video [s]:  130.33 , recorded with  30.0 fps!\n",
      "Overall # of frames:  3910  found with (before cropping) frame dimensions:  200 594\n",
      "Starting to extract posture\n"
     ]
    },
    {
     "name": "stderr",
     "output_type": "stream",
     "text": [
      "3939it [00:38, 102.51it/s]                          \n",
      "  0%|          | 0/3900 [00:00<?, ?it/s]"
     ]
    },
    {
     "name": "stdout",
     "output_type": "stream",
     "text": [
      "Detected frames:  3910\n",
      "Saving results in ....\n",
      "Saving csv poses!\n",
      "Starting to analyze %  video80826_3L_C71.mp4\n",
      "Loading  video80826_3L_C71.mp4\n",
      "Duration of video [s]:  130.0 , recorded with  30.0 fps!\n",
      "Overall # of frames:  3900  found with (before cropping) frame dimensions:  200 408\n",
      "Starting to extract posture\n"
     ]
    },
    {
     "name": "stderr",
     "output_type": "stream",
     "text": [
      "3939it [00:34, 115.57it/s]                          \n",
      "  0%|          | 0/3880 [00:00<?, ?it/s]"
     ]
    },
    {
     "name": "stdout",
     "output_type": "stream",
     "text": [
      "Detected frames:  3900\n",
      "Saving results in ....\n",
      "Saving csv poses!\n",
      "Starting to analyze %  video80826_3L_C123.mp4\n",
      "Loading  video80826_3L_C123.mp4\n",
      "Duration of video [s]:  129.33 , recorded with  30.0 fps!\n",
      "Overall # of frames:  3880  found with (before cropping) frame dimensions:  200 432\n",
      "Starting to extract posture\n"
     ]
    },
    {
     "name": "stderr",
     "output_type": "stream",
     "text": [
      "3914it [00:35, 111.57it/s]                          \n",
      "  0%|          | 0/3890 [00:00<?, ?it/s]"
     ]
    },
    {
     "name": "stdout",
     "output_type": "stream",
     "text": [
      "Detected frames:  3880\n",
      "Saving results in ....\n",
      "Saving csv poses!\n",
      "Starting to analyze %  video80826_3L_C07.mp4\n",
      "Loading  video80826_3L_C07.mp4\n",
      "Duration of video [s]:  129.67 , recorded with  30.0 fps!\n",
      "Overall # of frames:  3890  found with (before cropping) frame dimensions:  200 408\n",
      "Starting to extract posture\n"
     ]
    },
    {
     "name": "stderr",
     "output_type": "stream",
     "text": [
      "3914it [00:33, 115.83it/s]                          \n",
      "  0%|          | 0/3880 [00:00<?, ?it/s]"
     ]
    },
    {
     "name": "stdout",
     "output_type": "stream",
     "text": [
      "Detected frames:  3890\n",
      "Saving results in ....\n",
      "Saving csv poses!\n",
      "Starting to analyze %  video80826_3L_C135.mp4\n",
      "Loading  video80826_3L_C135.mp4\n",
      "Duration of video [s]:  129.33 , recorded with  30.0 fps!\n",
      "Overall # of frames:  3880  found with (before cropping) frame dimensions:  200 434\n",
      "Starting to extract posture\n"
     ]
    },
    {
     "name": "stderr",
     "output_type": "stream",
     "text": [
      "3914it [00:35, 110.69it/s]                          \n",
      "  0%|          | 0/3890 [00:00<?, ?it/s]"
     ]
    },
    {
     "name": "stdout",
     "output_type": "stream",
     "text": [
      "Detected frames:  3880\n",
      "Saving results in ....\n",
      "Saving csv poses!\n",
      "Starting to analyze %  video80826_3L_C101.mp4\n",
      "Loading  video80826_3L_C101.mp4\n",
      "Duration of video [s]:  129.67 , recorded with  30.0 fps!\n",
      "Overall # of frames:  3890  found with (before cropping) frame dimensions:  200 432\n",
      "Starting to extract posture\n"
     ]
    },
    {
     "name": "stderr",
     "output_type": "stream",
     "text": [
      "3914it [00:35, 111.53it/s]                          \n",
      "  0%|          | 0/3910 [00:00<?, ?it/s]"
     ]
    },
    {
     "name": "stdout",
     "output_type": "stream",
     "text": [
      "Detected frames:  3890\n",
      "Saving results in ....\n",
      "Saving csv poses!\n",
      "Starting to analyze %  video80826_3L_C140.mp4\n",
      "Loading  video80826_3L_C140.mp4\n",
      "Duration of video [s]:  130.33 , recorded with  30.0 fps!\n",
      "Overall # of frames:  3910  found with (before cropping) frame dimensions:  200 434\n",
      "Starting to extract posture\n"
     ]
    },
    {
     "name": "stderr",
     "output_type": "stream",
     "text": [
      "3939it [00:35, 110.16it/s]                          \n",
      "  0%|          | 0/3880 [00:00<?, ?it/s]"
     ]
    },
    {
     "name": "stdout",
     "output_type": "stream",
     "text": [
      "Detected frames:  3910\n",
      "Saving results in ....\n",
      "Saving csv poses!\n",
      "Starting to analyze %  video80826_3L_C104.mp4\n",
      "Loading  video80826_3L_C104.mp4\n",
      "Duration of video [s]:  129.33 , recorded with  30.0 fps!\n",
      "Overall # of frames:  3880  found with (before cropping) frame dimensions:  200 432\n",
      "Starting to extract posture\n"
     ]
    },
    {
     "name": "stderr",
     "output_type": "stream",
     "text": [
      "3914it [00:34, 111.89it/s]                          \n",
      "  0%|          | 0/3910 [00:00<?, ?it/s]"
     ]
    },
    {
     "name": "stdout",
     "output_type": "stream",
     "text": [
      "Detected frames:  3880\n",
      "Saving results in ....\n",
      "Saving csv poses!\n",
      "Starting to analyze %  video80826_1L_C04.mp4\n",
      "Loading  video80826_1L_C04.mp4\n",
      "Duration of video [s]:  130.33 , recorded with  30.0 fps!\n",
      "Overall # of frames:  3910  found with (before cropping) frame dimensions:  200 594\n",
      "Starting to extract posture\n"
     ]
    },
    {
     "name": "stderr",
     "output_type": "stream",
     "text": [
      "3939it [00:38, 102.55it/s]                          \n",
      "  0%|          | 0/3910 [00:00<?, ?it/s]"
     ]
    },
    {
     "name": "stdout",
     "output_type": "stream",
     "text": [
      "Detected frames:  3910\n",
      "Saving results in ....\n",
      "Saving csv poses!\n",
      "Starting to analyze %  video80826_1L_C03.mp4\n",
      "Loading  video80826_1L_C03.mp4\n",
      "Duration of video [s]:  130.33 , recorded with  30.0 fps!\n",
      "Overall # of frames:  3910  found with (before cropping) frame dimensions:  200 594\n",
      "Starting to extract posture\n"
     ]
    },
    {
     "name": "stderr",
     "output_type": "stream",
     "text": [
      "3939it [00:38, 102.57it/s]                          \n",
      "  0%|          | 0/3900 [00:00<?, ?it/s]"
     ]
    },
    {
     "name": "stdout",
     "output_type": "stream",
     "text": [
      "Detected frames:  3910\n",
      "Saving results in ....\n",
      "Saving csv poses!\n",
      "Starting to analyze %  video80826_3L_C143.mp4\n",
      "Loading  video80826_3L_C143.mp4\n",
      "Duration of video [s]:  130.0 , recorded with  30.0 fps!\n",
      "Overall # of frames:  3900  found with (before cropping) frame dimensions:  200 432\n",
      "Starting to extract posture\n"
     ]
    },
    {
     "name": "stderr",
     "output_type": "stream",
     "text": [
      "3939it [00:35, 111.82it/s]                          \n",
      "  0%|          | 0/3880 [00:00<?, ?it/s]"
     ]
    },
    {
     "name": "stdout",
     "output_type": "stream",
     "text": [
      "Detected frames:  3900\n",
      "Saving results in ....\n",
      "Saving csv poses!\n",
      "Starting to analyze %  video80826_3L_C129.mp4\n",
      "Loading  video80826_3L_C129.mp4\n",
      "Duration of video [s]:  129.33 , recorded with  30.0 fps!\n",
      "Overall # of frames:  3880  found with (before cropping) frame dimensions:  200 432\n",
      "Starting to extract posture\n"
     ]
    },
    {
     "name": "stderr",
     "output_type": "stream",
     "text": [
      "3914it [00:34, 112.10it/s]                          \n",
      "  0%|          | 0/3900 [00:00<?, ?it/s]"
     ]
    },
    {
     "name": "stdout",
     "output_type": "stream",
     "text": [
      "Detected frames:  3880\n",
      "Saving results in ....\n",
      "Saving csv poses!\n",
      "Starting to analyze %  video80826_3L_C32.mp4\n",
      "Loading  video80826_3L_C32.mp4\n",
      "Duration of video [s]:  130.0 , recorded with  30.0 fps!\n",
      "Overall # of frames:  3900  found with (before cropping) frame dimensions:  200 408\n",
      "Starting to extract posture\n"
     ]
    },
    {
     "name": "stderr",
     "output_type": "stream",
     "text": [
      "3939it [00:33, 115.97it/s]                          \n",
      "  0%|          | 0/3900 [00:00<?, ?it/s]"
     ]
    },
    {
     "name": "stdout",
     "output_type": "stream",
     "text": [
      "Detected frames:  3900\n",
      "Saving results in ....\n",
      "Saving csv poses!\n",
      "Starting to analyze %  video80826_3L_C27.mp4\n",
      "Loading  video80826_3L_C27.mp4\n",
      "Duration of video [s]:  130.0 , recorded with  30.0 fps!\n",
      "Overall # of frames:  3900  found with (before cropping) frame dimensions:  200 408\n",
      "Starting to extract posture\n"
     ]
    },
    {
     "name": "stderr",
     "output_type": "stream",
     "text": [
      "3939it [00:34, 115.53it/s]                          \n",
      "  0%|          | 0/3860 [00:00<?, ?it/s]"
     ]
    },
    {
     "name": "stdout",
     "output_type": "stream",
     "text": [
      "Detected frames:  3900\n",
      "Saving results in ....\n",
      "Saving csv poses!\n",
      "Starting to analyze %  video80826_1L_C06.mp4\n",
      "Loading  video80826_1L_C06.mp4\n",
      "Duration of video [s]:  128.67 , recorded with  30.0 fps!\n",
      "Overall # of frames:  3860  found with (before cropping) frame dimensions:  200 594\n",
      "Starting to extract posture\n"
     ]
    },
    {
     "name": "stderr",
     "output_type": "stream",
     "text": [
      "3876it [00:37, 102.25it/s]                          \n",
      "  0%|          | 0/3890 [00:00<?, ?it/s]"
     ]
    },
    {
     "name": "stdout",
     "output_type": "stream",
     "text": [
      "Detected frames:  3860\n",
      "Saving results in ....\n",
      "Saving csv poses!\n",
      "Starting to analyze %  video80826_3L_C106.mp4\n",
      "Loading  video80826_3L_C106.mp4\n",
      "Duration of video [s]:  129.67 , recorded with  30.0 fps!\n",
      "Overall # of frames:  3890  found with (before cropping) frame dimensions:  200 432\n",
      "Starting to extract posture\n"
     ]
    },
    {
     "name": "stderr",
     "output_type": "stream",
     "text": [
      "3914it [00:35, 111.42it/s]                          \n",
      "  0%|          | 0/3910 [00:00<?, ?it/s]"
     ]
    },
    {
     "name": "stdout",
     "output_type": "stream",
     "text": [
      "Detected frames:  3890\n",
      "Saving results in ....\n",
      "Saving csv poses!\n",
      "Starting to analyze %  video80826_3L_C41.mp4\n",
      "Loading  video80826_3L_C41.mp4\n",
      "Duration of video [s]:  130.33 , recorded with  30.0 fps!\n",
      "Overall # of frames:  3910  found with (before cropping) frame dimensions:  200 408\n",
      "Starting to extract posture\n"
     ]
    },
    {
     "name": "stderr",
     "output_type": "stream",
     "text": [
      "3939it [00:34, 115.66it/s]                          \n",
      "  0%|          | 0/3890 [00:00<?, ?it/s]"
     ]
    },
    {
     "name": "stdout",
     "output_type": "stream",
     "text": [
      "Detected frames:  3910\n",
      "Saving results in ....\n",
      "Saving csv poses!\n",
      "Starting to analyze %  video80826_3L_C138.mp4\n",
      "Loading  video80826_3L_C138.mp4\n",
      "Duration of video [s]:  129.67 , recorded with  30.0 fps!\n",
      "Overall # of frames:  3890  found with (before cropping) frame dimensions:  200 434\n",
      "Starting to extract posture\n"
     ]
    },
    {
     "name": "stderr",
     "output_type": "stream",
     "text": [
      "3914it [00:35, 110.15it/s]                          \n",
      "  0%|          | 0/3890 [00:00<?, ?it/s]"
     ]
    },
    {
     "name": "stdout",
     "output_type": "stream",
     "text": [
      "Detected frames:  3890\n",
      "Saving results in ....\n",
      "Saving csv poses!\n",
      "Starting to analyze %  video80826_3L_C90.mp4\n",
      "Loading  video80826_3L_C90.mp4\n",
      "Duration of video [s]:  129.67 , recorded with  30.0 fps!\n",
      "Overall # of frames:  3890  found with (before cropping) frame dimensions:  200 432\n",
      "Starting to extract posture\n"
     ]
    },
    {
     "name": "stderr",
     "output_type": "stream",
     "text": [
      "3914it [00:34, 112.00it/s]                          \n",
      "  0%|          | 0/3890 [00:00<?, ?it/s]"
     ]
    },
    {
     "name": "stdout",
     "output_type": "stream",
     "text": [
      "Detected frames:  3890\n",
      "Saving results in ....\n",
      "Saving csv poses!\n",
      "Starting to analyze %  video80826_3L_C141.mp4\n",
      "Loading  video80826_3L_C141.mp4\n",
      "Duration of video [s]:  129.67 , recorded with  30.0 fps!\n",
      "Overall # of frames:  3890  found with (before cropping) frame dimensions:  200 432\n",
      "Starting to extract posture\n"
     ]
    },
    {
     "name": "stderr",
     "output_type": "stream",
     "text": [
      "3914it [00:35, 111.66it/s]                          \n",
      "  0%|          | 0/3880 [00:00<?, ?it/s]"
     ]
    },
    {
     "name": "stdout",
     "output_type": "stream",
     "text": [
      "Detected frames:  3890\n",
      "Saving results in ....\n",
      "Saving csv poses!\n",
      "Starting to analyze %  video80826_3L_C86.mp4\n",
      "Loading  video80826_3L_C86.mp4\n",
      "Duration of video [s]:  129.33 , recorded with  30.0 fps!\n",
      "Overall # of frames:  3880  found with (before cropping) frame dimensions:  200 432\n",
      "Starting to extract posture\n"
     ]
    },
    {
     "name": "stderr",
     "output_type": "stream",
     "text": [
      "3914it [00:35, 111.69it/s]                          \n",
      "  0%|          | 0/3900 [00:00<?, ?it/s]"
     ]
    },
    {
     "name": "stdout",
     "output_type": "stream",
     "text": [
      "Detected frames:  3880\n",
      "Saving results in ....\n",
      "Saving csv poses!\n",
      "Starting to analyze %  video80826_3L_C88.mp4\n",
      "Loading  video80826_3L_C88.mp4\n",
      "Duration of video [s]:  130.0 , recorded with  30.0 fps!\n",
      "Overall # of frames:  3900  found with (before cropping) frame dimensions:  200 432\n",
      "Starting to extract posture\n"
     ]
    },
    {
     "name": "stderr",
     "output_type": "stream",
     "text": [
      "3939it [00:35, 111.80it/s]                          \n",
      "  0%|          | 0/3880 [00:00<?, ?it/s]"
     ]
    },
    {
     "name": "stdout",
     "output_type": "stream",
     "text": [
      "Detected frames:  3900\n",
      "Saving results in ....\n",
      "Saving csv poses!\n",
      "Starting to analyze %  video80826_3L_C85.mp4\n",
      "Loading  video80826_3L_C85.mp4\n",
      "Duration of video [s]:  129.33 , recorded with  30.0 fps!\n",
      "Overall # of frames:  3880  found with (before cropping) frame dimensions:  200 432\n",
      "Starting to extract posture\n"
     ]
    },
    {
     "name": "stderr",
     "output_type": "stream",
     "text": [
      "3914it [00:34, 112.24it/s]                          \n",
      "  0%|          | 0/3890 [00:00<?, ?it/s]"
     ]
    },
    {
     "name": "stdout",
     "output_type": "stream",
     "text": [
      "Detected frames:  3880\n",
      "Saving results in ....\n",
      "Saving csv poses!\n",
      "Starting to analyze %  video80826_3L_C81.mp4\n",
      "Loading  video80826_3L_C81.mp4\n",
      "Duration of video [s]:  129.67 , recorded with  30.0 fps!\n",
      "Overall # of frames:  3890  found with (before cropping) frame dimensions:  200 432\n",
      "Starting to extract posture\n"
     ]
    },
    {
     "name": "stderr",
     "output_type": "stream",
     "text": [
      "3914it [00:35, 111.52it/s]                          \n",
      "  0%|          | 0/3870 [00:00<?, ?it/s]"
     ]
    },
    {
     "name": "stdout",
     "output_type": "stream",
     "text": [
      "Detected frames:  3890\n",
      "Saving results in ....\n",
      "Saving csv poses!\n",
      "Starting to analyze %  video80826_3L_C132.mp4\n",
      "Loading  video80826_3L_C132.mp4\n",
      "Duration of video [s]:  129.0 , recorded with  30.0 fps!\n",
      "Overall # of frames:  3870  found with (before cropping) frame dimensions:  200 432\n",
      "Starting to extract posture\n"
     ]
    },
    {
     "name": "stderr",
     "output_type": "stream",
     "text": [
      "3876it [00:34, 111.46it/s]                          \n",
      "  0%|          | 0/3890 [00:00<?, ?it/s]"
     ]
    },
    {
     "name": "stdout",
     "output_type": "stream",
     "text": [
      "Detected frames:  3870\n",
      "Saving results in ....\n",
      "Saving csv poses!\n",
      "Starting to analyze %  video80826_3L_C112.mp4\n",
      "Loading  video80826_3L_C112.mp4\n",
      "Duration of video [s]:  129.67 , recorded with  30.0 fps!\n",
      "Overall # of frames:  3890  found with (before cropping) frame dimensions:  200 432\n",
      "Starting to extract posture\n"
     ]
    },
    {
     "name": "stderr",
     "output_type": "stream",
     "text": [
      "3914it [00:35, 111.63it/s]                          \n",
      "  0%|          | 0/3890 [00:00<?, ?it/s]"
     ]
    },
    {
     "name": "stdout",
     "output_type": "stream",
     "text": [
      "Detected frames:  3890\n",
      "Saving results in ....\n",
      "Saving csv poses!\n",
      "Starting to analyze %  video80826_3L_C144.mp4\n",
      "Loading  video80826_3L_C144.mp4\n",
      "Duration of video [s]:  129.67 , recorded with  30.0 fps!\n",
      "Overall # of frames:  3890  found with (before cropping) frame dimensions:  200 432\n",
      "Starting to extract posture\n"
     ]
    },
    {
     "name": "stderr",
     "output_type": "stream",
     "text": [
      "3914it [00:34, 111.90it/s]                          \n"
     ]
    },
    {
     "name": "stdout",
     "output_type": "stream",
     "text": [
      "Detected frames:  3890\n",
      "Saving results in ....\n",
      "Saving csv poses!\n",
      "The videos are analyzed. Now your research can truly start! \n",
      " You can create labeled videos with 'create_labeled_video'.\n",
      "If the tracking is not satisfactory for some videos, consider expanding the training set. You can use the function 'extract_outlier_frames' to extract any outlier frames!\n",
      "(408, 390, 385)\n",
      "Normal axis\n",
      "Modified axis\n"
     ]
    },
    {
     "name": "stderr",
     "output_type": "stream",
     "text": [
      "WARNING:py.warnings:/home/bram/.conda/envs/mousetracker/lib/python3.6/site-packages/imageio/plugins/_tifffile.py:7285: UserWarning: module 'imageio.plugins._tifffile' has no attribute 'decode_packbits'\n",
      "  Functionality might be degraded or be slow.\n",
      "\n",
      "  warnings.warn(\"%s%s\" % (e, warn))\n",
      "\n",
      "WARNING:py.warnings:/home/bram/.conda/envs/mousetracker/lib/python3.6/site-packages/imageio/plugins/_tifffile.py:7285: UserWarning: module 'imageio.plugins._tifffile' has no attribute 'decode_lzw'\n",
      "  Functionality might be degraded or be slow.\n",
      "\n",
      "  warnings.warn(\"%s%s\" % (e, warn))\n",
      "\n",
      "WARNING:py.warnings:/home/bram/.conda/envs/mousetracker/lib/python3.6/site-packages/imageio/plugins/_tifffile.py:7285: UserWarning: module 'imageio.plugins._tifffile' has no attribute 'unpack_ints'\n",
      "  Functionality might be degraded or be slow.\n",
      "\n",
      "  warnings.warn(\"%s%s\" % (e, warn))\n",
      "\n",
      "WARNING:py.warnings:/home/bram/.conda/envs/mousetracker/lib/python3.6/site-packages/imageio/plugins/_tifffile.py:7285: UserWarning: module 'imageio.plugins._tifffile' has no attribute 'reverse_bitorder'\n",
      "  Functionality might be degraded or be slow.\n",
      "\n",
      "  warnings.warn(\"%s%s\" % (e, warn))\n",
      "\n"
     ]
    },
    {
     "name": "stdout",
     "output_type": "stream",
     "text": [
      "<class 'numpy.uint8'>\n",
      "(595, 391, 386)\n",
      "Normal axis\n",
      "Modified axis\n",
      "<class 'numpy.uint8'>\n",
      "(408, 389, 389)\n",
      "Normal axis\n",
      "Modified axis\n",
      "<class 'numpy.uint8'>\n",
      "(408, 389, 385)\n",
      "Normal axis\n",
      "Modified axis\n",
      "<class 'numpy.uint8'>\n",
      "(433, 387, 387)\n",
      "Normal axis\n",
      "Modified axis\n",
      "<class 'numpy.uint8'>\n",
      "(594, 386, 385)\n",
      "Normal axis\n",
      "Modified axis\n",
      "<class 'numpy.uint8'>\n",
      "(433, 389, 387)\n",
      "Normal axis\n",
      "Modified axis\n",
      "<class 'numpy.uint8'>\n",
      "(408, 389, 387)\n",
      "Normal axis\n",
      "Modified axis\n",
      "<class 'numpy.uint8'>\n",
      "(433, 388, 385)\n",
      "Normal axis\n",
      "Modified axis\n",
      "<class 'numpy.uint8'>\n",
      "(433, 389, 387)\n",
      "Normal axis\n",
      "Modified axis\n",
      "<class 'numpy.uint8'>\n",
      "(535, 389, 388)\n",
      "Normal axis\n",
      "Modified axis\n",
      "<class 'numpy.uint8'>\n",
      "(433, 389, 386)\n",
      "Normal axis\n",
      "Modified axis\n",
      "<class 'numpy.uint8'>\n",
      "(409, 390, 387)\n",
      "Normal axis\n",
      "Modified axis\n",
      "<class 'numpy.uint8'>\n",
      "(433, 390, 387)\n",
      "Normal axis\n",
      "Modified axis\n",
      "<class 'numpy.uint8'>\n",
      "(433, 389, 386)\n",
      "Normal axis\n",
      "Modified axis\n",
      "<class 'numpy.uint8'>\n",
      "(409, 389, 386)\n",
      "Normal axis\n",
      "Modified axis\n",
      "<class 'numpy.uint8'>\n",
      "(433, 388, 386)\n",
      "Normal axis\n",
      "Modified axis\n",
      "<class 'numpy.uint8'>\n",
      "(409, 390, 385)\n",
      "Normal axis\n",
      "Modified axis\n",
      "<class 'numpy.uint8'>\n",
      "(433, 389, 387)\n",
      "Normal axis\n",
      "Modified axis\n",
      "<class 'numpy.uint8'>\n",
      "(409, 389, 387)\n",
      "Normal axis\n",
      "Modified axis\n",
      "<class 'numpy.uint8'>\n",
      "(433, 389, 386)\n",
      "Normal axis\n",
      "Modified axis\n",
      "<class 'numpy.uint8'>\n",
      "(434, 389, 386)\n",
      "Normal axis\n",
      "Modified axis\n",
      "<class 'numpy.uint8'>\n",
      "(408, 390, 385)\n",
      "Normal axis\n",
      "Modified axis\n",
      "<class 'numpy.uint8'>\n",
      "(433, 389, 386)\n",
      "Normal axis\n",
      "Modified axis\n",
      "<class 'numpy.uint8'>\n",
      "(433, 389, 384)\n",
      "Normal axis\n",
      "Modified axis\n",
      "<class 'numpy.uint8'>\n",
      "(409, 389, 387)\n",
      "Normal axis\n",
      "Modified axis\n",
      "<class 'numpy.uint8'>\n",
      "(409, 390, 386)\n",
      "Normal axis\n",
      "Modified axis\n",
      "<class 'numpy.uint8'>\n",
      "(408, 391, 388)\n",
      "Normal axis\n",
      "Modified axis\n",
      "<class 'numpy.uint8'>\n",
      "(408, 388, 385)\n",
      "Normal axis\n",
      "Modified axis\n",
      "<class 'numpy.uint8'>\n",
      "(408, 390, 387)\n",
      "Normal axis\n",
      "Modified axis\n",
      "<class 'numpy.uint8'>\n",
      "(409, 391, 387)\n",
      "Normal axis\n",
      "Modified axis\n",
      "<class 'numpy.uint8'>\n",
      "(434, 389, 386)\n",
      "Normal axis\n",
      "Modified axis\n",
      "<class 'numpy.uint8'>\n",
      "(409, 389, 387)\n",
      "Normal axis\n",
      "Modified axis\n",
      "<class 'numpy.uint8'>\n",
      "(434, 389, 385)\n",
      "Normal axis\n",
      "Modified axis\n",
      "<class 'numpy.uint8'>\n",
      "(433, 387, 387)\n",
      "Normal axis\n",
      "Modified axis\n",
      "<class 'numpy.uint8'>\n",
      "(434, 390, 387)\n",
      "Normal axis\n",
      "Modified axis\n",
      "<class 'numpy.uint8'>\n",
      "(409, 389, 388)\n",
      "Normal axis\n",
      "Modified axis\n",
      "<class 'numpy.uint8'>\n",
      "(433, 389, 387)\n",
      "Normal axis\n",
      "Modified axis\n",
      "<class 'numpy.uint8'>\n",
      "(434, 389, 387)\n",
      "Normal axis\n",
      "Modified axis\n",
      "<class 'numpy.uint8'>\n",
      "(433, 388, 386)\n",
      "Normal axis\n",
      "Modified axis\n",
      "<class 'numpy.uint8'>\n",
      "(433, 390, 386)\n",
      "Normal axis\n",
      "Modified axis\n",
      "<class 'numpy.uint8'>\n",
      "(433, 390, 387)\n",
      "Normal axis\n",
      "Modified axis\n",
      "<class 'numpy.uint8'>\n",
      "(433, 388, 387)\n",
      "Normal axis\n",
      "Modified axis\n",
      "<class 'numpy.uint8'>\n",
      "(433, 388, 387)\n",
      "Normal axis\n",
      "Modified axis\n",
      "<class 'numpy.uint8'>\n",
      "(433, 389, 386)\n",
      "Normal axis\n",
      "Modified axis\n",
      "<class 'numpy.uint8'>\n",
      "(434, 389, 388)\n",
      "Normal axis\n",
      "Modified axis\n",
      "<class 'numpy.uint8'>\n",
      "(434, 389, 387)\n",
      "Normal axis\n",
      "Modified axis\n",
      "<class 'numpy.uint8'>\n",
      "(595, 391, 387)\n",
      "Normal axis\n",
      "Modified axis\n",
      "<class 'numpy.uint8'>\n",
      "(409, 391, 386)\n",
      "Normal axis\n",
      "Modified axis\n",
      "<class 'numpy.uint8'>\n",
      "(408, 389, 387)\n",
      "Normal axis\n",
      "Modified axis\n",
      "<class 'numpy.uint8'>\n",
      "(434, 390, 385)\n",
      "Normal axis\n",
      "Modified axis\n",
      "<class 'numpy.uint8'>\n",
      "(408, 389, 385)\n",
      "Normal axis\n",
      "Modified axis\n",
      "<class 'numpy.uint8'>\n",
      "(410, 389, 386)\n",
      "Normal axis\n",
      "Modified axis\n",
      "<class 'numpy.uint8'>\n",
      "(433, 391, 387)\n",
      "Normal axis\n",
      "Modified axis\n",
      "<class 'numpy.uint8'>\n",
      "(594, 386, 386)\n",
      "Normal axis\n",
      "Modified axis\n",
      "<class 'numpy.uint8'>\n",
      "(595, 391, 386)\n",
      "Normal axis\n",
      "Modified axis\n",
      "<class 'numpy.uint8'>\n",
      "(595, 391, 388)\n",
      "Normal axis\n",
      "Modified axis\n",
      "<class 'numpy.uint8'>\n",
      "(434, 389, 388)\n",
      "Normal axis\n",
      "Modified axis\n",
      "<class 'numpy.uint8'>\n",
      "(535, 393, 387)\n",
      "Normal axis\n",
      "Modified axis\n",
      "<class 'numpy.uint8'>\n",
      "(409, 388, 386)\n",
      "Normal axis\n",
      "Modified axis\n",
      "<class 'numpy.uint8'>\n",
      "(408, 387, 387)\n",
      "Normal axis\n",
      "Modified axis\n",
      "<class 'numpy.uint8'>\n",
      "(433, 389, 386)\n",
      "Normal axis\n",
      "Modified axis\n",
      "<class 'numpy.uint8'>\n",
      "(434, 389, 386)\n",
      "Normal axis\n",
      "Modified axis\n",
      "<class 'numpy.uint8'>\n",
      "(409, 388, 386)\n",
      "Normal axis\n",
      "Modified axis\n",
      "<class 'numpy.uint8'>\n",
      "(434, 389, 385)\n",
      "Normal axis\n",
      "Modified axis\n",
      "<class 'numpy.uint8'>\n",
      "(433, 389, 385)\n",
      "Normal axis\n",
      "Modified axis\n",
      "<class 'numpy.uint8'>\n",
      "(434, 389, 386)\n",
      "Normal axis\n",
      "Modified axis\n",
      "<class 'numpy.uint8'>\n",
      "(410, 391, 387)\n",
      "Normal axis\n",
      "Modified axis\n",
      "<class 'numpy.uint8'>\n",
      "(435, 389, 387)\n",
      "Normal axis\n",
      "Modified axis\n",
      "<class 'numpy.uint8'>\n",
      "(434, 389, 386)\n",
      "Normal axis\n",
      "Modified axis\n",
      "<class 'numpy.uint8'>\n",
      "(408, 389, 387)\n",
      "Normal axis\n",
      "Modified axis\n",
      "<class 'numpy.uint8'>\n",
      "(594, 391, 386)\n",
      "Normal axis\n",
      "Modified axis\n",
      "<class 'numpy.uint8'>\n",
      "(410, 388, 387)\n",
      "Normal axis\n",
      "Modified axis\n",
      "<class 'numpy.uint8'>\n",
      "(595, 389, 387)\n",
      "Normal axis\n",
      "Modified axis\n",
      "<class 'numpy.uint8'>\n",
      "(434, 390, 387)\n",
      "Normal axis\n",
      "Modified axis\n",
      "<class 'numpy.uint8'>\n",
      "(433, 388, 387)\n",
      "Normal axis\n",
      "Modified axis\n",
      "<class 'numpy.uint8'>\n",
      "(594, 385, 386)\n",
      "Normal axis\n",
      "Modified axis\n",
      "<class 'numpy.uint8'>\n",
      "(408, 388, 386)\n",
      "Normal axis\n",
      "Modified axis\n",
      "<class 'numpy.uint8'>\n",
      "(434, 388, 387)\n",
      "Normal axis\n",
      "Modified axis\n",
      "<class 'numpy.uint8'>\n",
      "(408, 389, 387)\n",
      "Normal axis\n",
      "Modified axis\n",
      "<class 'numpy.uint8'>\n",
      "(435, 389, 386)\n",
      "Normal axis\n",
      "Modified axis\n",
      "<class 'numpy.uint8'>\n",
      "(408, 390, 387)\n",
      "Normal axis\n",
      "Modified axis\n",
      "<class 'numpy.uint8'>\n",
      "(408, 390, 387)\n",
      "Normal axis\n",
      "Modified axis\n",
      "<class 'numpy.uint8'>\n",
      "(433, 389, 387)\n",
      "Normal axis\n",
      "Modified axis\n",
      "<class 'numpy.uint8'>\n",
      "(434, 391, 387)\n",
      "Normal axis\n",
      "Modified axis\n",
      "<class 'numpy.uint8'>\n",
      "(409, 390, 386)\n",
      "Normal axis\n",
      "Modified axis\n",
      "<class 'numpy.uint8'>\n",
      "(408, 389, 387)\n",
      "Normal axis\n",
      "Modified axis\n",
      "<class 'numpy.uint8'>\n",
      "(434, 389, 387)\n",
      "Normal axis\n",
      "Modified axis\n",
      "<class 'numpy.uint8'>\n",
      "(595, 391, 387)\n",
      "Normal axis\n",
      "Modified axis\n",
      "<class 'numpy.uint8'>\n",
      "(409, 390, 387)\n",
      "Normal axis\n",
      "Modified axis\n",
      "<class 'numpy.uint8'>\n"
     ]
    }
   ],
   "source": [
    "chatbands = [(f.split('video')[1]).split('.mp4')[0] for f in os.listdir(os.path.join(project_path, 'subimages')) if f.endswith('.mp4')]\n",
    "predict_chAT.analyze_videos(config_path, gputouse=1, videos=None, videotype='mp4', save_as_csv=True, destfolder=dest_path)\n",
    "for chat in chatbands:\n",
    "    predict_chAT.get_slice_results(os.path.join(inference_path, \"{}_chAT_STD.tif\".format(chat)), os.path.join(dest_path, [f for f in os.listdir(dest_path) if f.endswith('.h5') and chat in f][0]), \n",
    "                                       dest_path, step_size=step_size, create_video=False, create_tif=True) # Change step_size if needed"
   ]
  },
  {
   "cell_type": "code",
   "execution_count": null,
   "metadata": {},
   "outputs": [],
   "source": []
  }
 ],
 "metadata": {
  "kernelspec": {
   "display_name": "Python 3",
   "language": "python",
   "name": "python3"
  },
  "language_info": {
   "codemirror_mode": {
    "name": "ipython",
    "version": 3
   },
   "file_extension": ".py",
   "mimetype": "text/x-python",
   "name": "python",
   "nbconvert_exporter": "python",
   "pygments_lexer": "ipython3",
   "version": "3.6.8"
  }
 },
 "nbformat": 4,
 "nbformat_minor": 2
}
